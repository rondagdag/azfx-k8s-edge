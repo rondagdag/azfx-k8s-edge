{
 "cells": [
  {
   "cell_type": "markdown",
   "source": [
    "Enable Kubernetes in Docker Desktop\r\n"
   ],
   "metadata": {}
  },
  {
   "cell_type": "markdown",
   "source": [
    "Install Azure Functions Core Tools  https://docs.microsoft.com/en-us/azure/azure-functions/functions-run-local?tabs=windows%2Ccsharp%2Cportal%2Cbash%2Ckeda\r\n"
   ],
   "metadata": {}
  },
  {
   "cell_type": "markdown",
   "source": [
    "Requirements:\r\n",
    "- Node\r\n",
    "- Docker Desktop with Kubernetes enabled\r\n",
    "  "
   ],
   "metadata": {}
  },
  {
   "cell_type": "code",
   "execution_count": 3,
   "source": [
    "!npm i -g azure-functions-core-tools@3 --unsafe-perm true"
   ],
   "outputs": [
    {
     "output_type": "stream",
     "name": "stdout",
     "text": [
      "\u001b[K\u001b[?25h\u001b[37;40mnpm\u001b[0m \u001b[0m\u001b[30;43mWARN\u001b[0m \u001b[0m\u001b[35mcheckPermissions\u001b[0m Missing write access to /usr/lib/node_modules\n",
      "\u001b[0m\u001b[37;40mnpm\u001b[0m \u001b[0m\u001b[31;40mERR!\u001b[0m \u001b[0m\u001b[35mcode\u001b[0m EACCES\n",
      "\u001b[0m\u001b[37;40mnpm\u001b[0m \u001b[0m\u001b[31;40mERR!\u001b[0m \u001b[0m\u001b[35msyscall\u001b[0m access\n",
      "\u001b[0m\u001b[37;40mnpm\u001b[0m \u001b[0m\u001b[31;40mERR!\u001b[0m \u001b[0m\u001b[35mpath\u001b[0m /usr/lib/node_modules\n",
      "\u001b[0m\u001b[37;40mnpm\u001b[0m \u001b[0m\u001b[31;40mERR!\u001b[0m \u001b[0m\u001b[35merrno\u001b[0m -13\n",
      "\u001b[0m\u001b[37;40mnpm\u001b[0m \u001b[0m\u001b[31;40mERR!\u001b[0m\u001b[35m\u001b[0m Error: EACCES: permission denied, access '/usr/lib/node_modules'\n",
      "\u001b[0m\u001b[37;40mnpm\u001b[0m \u001b[0m\u001b[31;40mERR!\u001b[0m\u001b[35m\u001b[0m  [Error: EACCES: permission denied, access '/usr/lib/node_modules'] {\n",
      "\u001b[0m\u001b[37;40mnpm\u001b[0m \u001b[0m\u001b[31;40mERR!\u001b[0m\u001b[35m\u001b[0m   errno: -13,\n",
      "\u001b[0m\u001b[37;40mnpm\u001b[0m \u001b[0m\u001b[31;40mERR!\u001b[0m\u001b[35m\u001b[0m   code: 'EACCES',\n",
      "\u001b[0m\u001b[37;40mnpm\u001b[0m \u001b[0m\u001b[31;40mERR!\u001b[0m\u001b[35m\u001b[0m   syscall: 'access',\n",
      "\u001b[0m\u001b[37;40mnpm\u001b[0m \u001b[0m\u001b[31;40mERR!\u001b[0m\u001b[35m\u001b[0m   path: '/usr/lib/node_modules'\n",
      "\u001b[0m\u001b[37;40mnpm\u001b[0m \u001b[0m\u001b[31;40mERR!\u001b[0m\u001b[35m\u001b[0m }\n",
      "\u001b[0m\u001b[37;40mnpm\u001b[0m \u001b[0m\u001b[31;40mERR!\u001b[0m\u001b[35m\u001b[0m \n",
      "\u001b[0m\u001b[37;40mnpm\u001b[0m \u001b[0m\u001b[31;40mERR!\u001b[0m\u001b[35m\u001b[0m The operation was rejected by your operating system.\n",
      "\u001b[0m\u001b[37;40mnpm\u001b[0m \u001b[0m\u001b[31;40mERR!\u001b[0m\u001b[35m\u001b[0m It is likely you do not have the permissions to access this file as the current user\n",
      "\u001b[0m\u001b[37;40mnpm\u001b[0m \u001b[0m\u001b[31;40mERR!\u001b[0m\u001b[35m\u001b[0m \n",
      "\u001b[0m\u001b[37;40mnpm\u001b[0m \u001b[0m\u001b[31;40mERR!\u001b[0m\u001b[35m\u001b[0m If you believe this might be a permissions issue, please double-check the\n",
      "\u001b[0m\u001b[37;40mnpm\u001b[0m \u001b[0m\u001b[31;40mERR!\u001b[0m\u001b[35m\u001b[0m permissions of the file and its containing directories, or try running\n",
      "\u001b[0m\u001b[37;40mnpm\u001b[0m \u001b[0m\u001b[31;40mERR!\u001b[0m\u001b[35m\u001b[0m the command again as root/Administrator.\n",
      "\u001b[0m\n",
      "\u001b[37;40mnpm\u001b[0m \u001b[0m\u001b[31;40mERR!\u001b[0m\u001b[35m\u001b[0m A complete log of this run can be found in:\n",
      "\u001b[0m\u001b[37;40mnpm\u001b[0m \u001b[0m\u001b[31;40mERR!\u001b[0m\u001b[35m\u001b[0m     /home/rondagdag/.npm/_logs/2021-09-15T21_17_23_693Z-debug.log\n",
      "\u001b[0m"
     ]
    }
   ],
   "metadata": {}
  },
  {
   "cell_type": "code",
   "execution_count": 25,
   "source": [
    "!func kubernetes install"
   ],
   "outputs": [
    {
     "output_type": "stream",
     "name": "stdout",
     "text": [
      "Installing KEDA v2 in namespace \n",
      "customresourcedefinition.apiextensions.k8s.io/clustertriggerauthentications.keda.sh configured\n",
      "customresourcedefinition.apiextensions.k8s.io/scaledjobs.keda.sh configured\n",
      "customresourcedefinition.apiextensions.k8s.io/scaledobjects.keda.sh configured\n",
      "customresourcedefinition.apiextensions.k8s.io/triggerauthentications.keda.sh configured\n",
      "serviceaccount/keda-operator unchanged\n",
      "clusterrole.rbac.authorization.k8s.io/keda-external-metrics-reader unchanged\n",
      "clusterrole.rbac.authorization.k8s.io/keda-operator configured\n",
      "rolebinding.rbac.authorization.k8s.io/keda-auth-reader unchanged\n",
      "clusterrolebinding.rbac.authorization.k8s.io/keda-hpa-controller-external-metrics unchanged\n",
      "clusterrolebinding.rbac.authorization.k8s.io/keda-operator unchanged\n",
      "clusterrolebinding.rbac.authorization.k8s.io/keda:system:auth-delegator unchanged\n",
      "service/keda-metrics-apiserver unchanged\n",
      "deployment.apps/keda-metrics-apiserver configured\n",
      "deployment.apps/keda-operator configured\n",
      "apiservice.apiregistration.k8s.io/v1beta1.external.metrics.k8s.io unchanged\n",
      "KEDA v2 is installed in namespace \n"
     ]
    }
   ],
   "metadata": {
    "dotnet_interactive": {
     "language": "csharp"
    }
   }
  },
  {
   "cell_type": "markdown",
   "source": [
    "- to build folder   func init --docker"
   ],
   "metadata": {}
  },
  {
   "cell_type": "code",
   "execution_count": 36,
   "source": [
    "!rm -rf fx-edge\n",
    "!func init fx-edge --docker-only --javascript"
   ],
   "outputs": [
    {
     "output_type": "stream",
     "name": "stdout",
     "text": [
      "\u001b[mWriting Dockerfile\u001b[m\u001b[m\n",
      "\u001b[m\u001b[mWriting .dockerignore\u001b[m\u001b[m\n",
      "\u001b[m"
     ]
    }
   ],
   "metadata": {}
  },
  {
   "cell_type": "code",
   "execution_count": 37,
   "source": [
    "!func new fx-edge --template \"Timer trigger\" --name MyTimerTrigger --worker-runtime node \n",
    "!func new fx-edge --template \"Http trigger\" --name MyHttpTrigger --worker-runtime node "
   ],
   "outputs": [
    {
     "output_type": "stream",
     "name": "stdout",
     "text": [
      "\u001b[mWriting package.json\u001b[m\u001b[m\n",
      "\u001b[m\u001b[mWriting .gitignore\u001b[m\u001b[m\n",
      "\u001b[m\u001b[mWriting host.json\u001b[m\u001b[m\n",
      "\u001b[m\u001b[mWriting local.settings.json\u001b[m\u001b[m\n",
      "\u001b[m\u001b[mWriting /mnt/d/presentations/azfunc-percept/azfx-k8s-edge/fx-edge/.vscode/extensions.json\u001b[m\u001b[m\n",
      "\u001b[m\u001b[mSelect a number for template:\u001b[m\u001b[m\u001b[m\u001b[m\u001b[36mTimer trigger\u001b[m\u001b[m\u001b[m\u001b[m\n",
      "\u001b[m\u001b[mFunction name: [TimerTrigger] \u001b[m\u001b[mWriting /mnt/d/presentations/azfunc-percept/azfx-k8s-edge/fx-edge/MyTimerTrigger/index.js\u001b[m\u001b[m\n",
      "\u001b[m\u001b[mWriting /mnt/d/presentations/azfunc-percept/azfx-k8s-edge/fx-edge/MyTimerTrigger/readme.md\u001b[m\u001b[m\n",
      "\u001b[m\u001b[mWriting /mnt/d/presentations/azfunc-percept/azfx-k8s-edge/fx-edge/MyTimerTrigger/function.json\u001b[m\u001b[m\n",
      "\u001b[m\u001b[mThe function \"MyTimerTrigger\" was created successfully from the \"Timer trigger\" template.\u001b[m\u001b[m\n",
      "\u001b[m\u001b[mpackage.json already exists. Skipped!\u001b[m\u001b[m\n",
      "\u001b[m\u001b[m.gitignore already exists. Skipped!\u001b[m\u001b[m\n",
      "\u001b[m\u001b[mhost.json already exists. Skipped!\u001b[m\u001b[m\n",
      "\u001b[m\u001b[mlocal.settings.json already exists. Skipped!\u001b[m\u001b[m\n",
      "\u001b[m\u001b[m/mnt/d/presentations/azfunc-percept/azfx-k8s-edge/fx-edge/.vscode/extensions.json already exists. Skipped!\u001b[m\u001b[m\n",
      "\u001b[m\u001b[mSelect a number for template:\u001b[m\u001b[m\u001b[m\u001b[m\u001b[36mHttp trigger\u001b[m\u001b[m\u001b[m\u001b[m\n",
      "\u001b[m\u001b[mFunction name: [HttpTrigger] \u001b[m\u001b[mWriting /mnt/d/presentations/azfunc-percept/azfx-k8s-edge/fx-edge/MyHttpTrigger/index.js\u001b[m\u001b[m\n",
      "\u001b[m\u001b[mWriting /mnt/d/presentations/azfunc-percept/azfx-k8s-edge/fx-edge/MyHttpTrigger/function.json\u001b[m\u001b[m\n",
      "\u001b[m\u001b[mThe function \"MyHttpTrigger\" was created successfully from the \"Http trigger\" template.\u001b[m\u001b[m\n",
      "\u001b[m"
     ]
    }
   ],
   "metadata": {}
  },
  {
   "cell_type": "markdown",
   "source": [
    "Change the timer to every 15 seconds\r\n",
    "```\r\n",
    "\"schedule\": \"*/15 * * * * *\"\r\n",
    "```"
   ],
   "metadata": {}
  },
  {
   "cell_type": "markdown",
   "source": [
    "Copy local.settings.json for azurerite connection string"
   ],
   "metadata": {}
  },
  {
   "cell_type": "markdown",
   "source": [
    "change connection string to \"AzureWebJobsStorage\": \"DefaultEndpointsProtocol=http;AccountName=devstoreaccount1;AccountKey=Eby8vdM02xNOcqFlqUwJPLlmEtlCDXJ1OUzFT50uSRZ6IFsuFq2UVErCz4I6tq/K1SZFPTOtr/KBHBeksoGMGw==;BlobEndpoint=http://storage-azurite-service:10000/devstoreaccount1;QueueEndpoint=http://storage-azurite-service:10001/devstoreaccount1;\"\n"
   ],
   "metadata": {}
  },
  {
   "cell_type": "code",
   "execution_count": 39,
   "source": [
    "!cp azurite/local.settings.json fx-edge/local.settings.json\n",
    "!sed -i 's=\"schedule\": .*=\"schedule\": \"*/15 * * * * *\"=g' ./fx-edge/MyTimerTrigger/function.json"
   ],
   "outputs": [],
   "metadata": {}
  },
  {
   "cell_type": "markdown",
   "source": [
    "Change name of docker to your dockerhub account\r\n",
    "```\r\n",
    "rondagdag/fxk8s:latest\r\n",
    "```"
   ],
   "metadata": {}
  },
  {
   "cell_type": "code",
   "execution_count": 40,
   "source": [
    "!cd fx-edge && docker build --pull --rm -f \"Dockerfile\" -t rondagdag/fxk8s:latest \".\""
   ],
   "outputs": [
    {
     "output_type": "stream",
     "name": "stdout",
     "text": [
      "\u001b[1A\u001b[1B\u001b[0G\u001b[?25l[+] Building 0.0s (0/1)                                                         \n",
      "\u001b[?25h\u001b[1A\u001b[0G\u001b[?25l[+] Building 0.1s (2/3)                                                         \n",
      "\u001b[34m => [internal] load build definition from Dockerfile                       0.0s\n",
      "\u001b[0m\u001b[34m => => transferring dockerfile: 426B                                       0.0s\n",
      "\u001b[0m\u001b[34m => [internal] load .dockerignore                                          0.0s\n",
      "\u001b[0m\u001b[34m => => transferring context: 59B                                           0.0s\n",
      "\u001b[0m => [internal] load metadata for mcr.microsoft.com/azure-functions/node:3  0.0s\n",
      "\u001b[?25h\u001b[1A\u001b[1A\u001b[1A\u001b[1A\u001b[1A\u001b[1A\u001b[0G\u001b[?25l[+] Building 0.3s (2/3)                                                         \n",
      "\u001b[34m => [internal] load build definition from Dockerfile                       0.0s\n",
      "\u001b[0m\u001b[34m => => transferring dockerfile: 426B                                       0.0s\n",
      "\u001b[0m\u001b[34m => [internal] load .dockerignore                                          0.0s\n",
      "\u001b[0m\u001b[34m => => transferring context: 59B                                           0.0s\n",
      "\u001b[0m => [internal] load metadata for mcr.microsoft.com/azure-functions/node:3  0.2s\n",
      "\u001b[?25h\u001b[1A\u001b[1A\u001b[1A\u001b[1A\u001b[1A\u001b[1A\u001b[0G\u001b[?25l[+] Building 0.4s (2/3)                                                         \n",
      "\u001b[34m => [internal] load build definition from Dockerfile                       0.0s\n",
      "\u001b[0m\u001b[34m => => transferring dockerfile: 426B                                       0.0s\n",
      "\u001b[0m\u001b[34m => [internal] load .dockerignore                                          0.0s\n",
      "\u001b[0m\u001b[34m => => transferring context: 59B                                           0.0s\n",
      "\u001b[0m => [internal] load metadata for mcr.microsoft.com/azure-functions/node:3  0.3s\n",
      "\u001b[?25h\u001b[1A\u001b[1A\u001b[1A\u001b[1A\u001b[1A\u001b[1A\u001b[0G\u001b[?25l[+] Building 0.6s (2/3)                                                         \n",
      "\u001b[34m => [internal] load build definition from Dockerfile                       0.0s\n",
      "\u001b[0m\u001b[34m => => transferring dockerfile: 426B                                       0.0s\n",
      "\u001b[0m\u001b[34m => [internal] load .dockerignore                                          0.0s\n",
      "\u001b[0m\u001b[34m => => transferring context: 59B                                           0.0s\n",
      "\u001b[0m => [internal] load metadata for mcr.microsoft.com/azure-functions/node:3  0.5s\n",
      "\u001b[?25h\u001b[1A\u001b[1A\u001b[1A\u001b[1A\u001b[1A\u001b[1A\u001b[0G\u001b[?25l[+] Building 0.7s (2/3)                                                         \n",
      "\u001b[34m => [internal] load build definition from Dockerfile                       0.0s\n",
      "\u001b[0m\u001b[34m => => transferring dockerfile: 426B                                       0.0s\n",
      "\u001b[0m\u001b[34m => [internal] load .dockerignore                                          0.0s\n",
      "\u001b[0m\u001b[34m => => transferring context: 59B                                           0.0s\n",
      "\u001b[0m => [internal] load metadata for mcr.microsoft.com/azure-functions/node:3  0.6s\n",
      "\u001b[?25h\u001b[1A\u001b[1A\u001b[1A\u001b[1A\u001b[1A\u001b[1A\u001b[0G\u001b[?25l[+] Building 0.9s (2/3)                                                         \n",
      "\u001b[34m => [internal] load build definition from Dockerfile                       0.0s\n",
      "\u001b[0m\u001b[34m => => transferring dockerfile: 426B                                       0.0s\n",
      "\u001b[0m\u001b[34m => [internal] load .dockerignore                                          0.0s\n",
      "\u001b[0m\u001b[34m => => transferring context: 59B                                           0.0s\n",
      "\u001b[0m => [internal] load metadata for mcr.microsoft.com/azure-functions/node:3  0.8s\n",
      "\u001b[?25h\u001b[1A\u001b[1A\u001b[1A\u001b[1A\u001b[1A\u001b[1A\u001b[0G\u001b[?25l[+] Building 1.0s (3/3)                                                         \n",
      "\u001b[34m => [internal] load build definition from Dockerfile                       0.0s\n",
      "\u001b[0m\u001b[34m => => transferring dockerfile: 426B                                       0.0s\n",
      "\u001b[0m\u001b[34m => [internal] load .dockerignore                                          0.0s\n",
      "\u001b[0m\u001b[34m => => transferring context: 59B                                           0.0s\n",
      "\u001b[0m\u001b[34m => [internal] load metadata for mcr.microsoft.com/azure-functions/node:3  0.9s\n",
      "\u001b[0m\u001b[?25h\u001b[1A\u001b[1A\u001b[1A\u001b[1A\u001b[1A\u001b[1A\u001b[0G\u001b[?25l[+] Building 1.2s (6/7)                                                         \n",
      "\u001b[34m => [internal] load build definition from Dockerfile                       0.0s\n",
      "\u001b[0m\u001b[34m => => transferring dockerfile: 426B                                       0.0s\n",
      "\u001b[0m\u001b[34m => [internal] load .dockerignore                                          0.0s\n",
      "\u001b[0m\u001b[34m => => transferring context: 59B                                           0.0s\n",
      "\u001b[0m\u001b[34m => [internal] load metadata for mcr.microsoft.com/azure-functions/node:3  0.9s\n",
      "\u001b[0m\u001b[34m => [internal] load build context                                          0.1s\n",
      "\u001b[0m\u001b[34m => => transferring context: 3.97kB                                        0.0s\n",
      "\u001b[0m\u001b[34m => CACHED [1/3] FROM mcr.microsoft.com/azure-functions/node:3.0@sha256:c  0.0s\n",
      "\u001b[0m\u001b[34m => [2/3] COPY . /home/site/wwwroot                                        0.0s\n",
      "\u001b[0m => [3/3] RUN cd /home/site/wwwroot &&     npm install                     0.1s\n",
      "\u001b[?25h\u001b[1A\u001b[1A\u001b[1A\u001b[1A\u001b[1A\u001b[1A\u001b[1A\u001b[1A\u001b[1A\u001b[1A\u001b[1A\u001b[0G\u001b[?25l[+] Building 1.3s (6/7)                                                         \n",
      "\u001b[34m => [internal] load build definition from Dockerfile                       0.0s\n",
      "\u001b[0m\u001b[34m => => transferring dockerfile: 426B                                       0.0s\n",
      "\u001b[0m\u001b[34m => [internal] load .dockerignore                                          0.0s\n",
      "\u001b[0m\u001b[34m => => transferring context: 59B                                           0.0s\n",
      "\u001b[0m\u001b[34m => [internal] load metadata for mcr.microsoft.com/azure-functions/node:3  0.9s\n",
      "\u001b[0m\u001b[34m => [internal] load build context                                          0.1s\n",
      "\u001b[0m\u001b[34m => => transferring context: 3.97kB                                        0.0s\n",
      "\u001b[0m\u001b[34m => CACHED [1/3] FROM mcr.microsoft.com/azure-functions/node:3.0@sha256:c  0.0s\n",
      "\u001b[0m\u001b[34m => [2/3] COPY . /home/site/wwwroot                                        0.0s\n",
      "\u001b[0m => [3/3] RUN cd /home/site/wwwroot &&     npm install                     0.2s\n",
      "\u001b[?25h\u001b[1A\u001b[1A\u001b[1A\u001b[1A\u001b[1A\u001b[1A\u001b[1A\u001b[1A\u001b[1A\u001b[1A\u001b[1A\u001b[0G\u001b[?25l[+] Building 1.5s (6/7)                                                         \n",
      "\u001b[34m => [internal] load build definition from Dockerfile                       0.0s\n",
      "\u001b[0m\u001b[34m => => transferring dockerfile: 426B                                       0.0s\n",
      "\u001b[0m\u001b[34m => [internal] load .dockerignore                                          0.0s\n",
      "\u001b[0m\u001b[34m => => transferring context: 59B                                           0.0s\n",
      "\u001b[0m\u001b[34m => [internal] load metadata for mcr.microsoft.com/azure-functions/node:3  0.9s\n",
      "\u001b[0m\u001b[34m => [internal] load build context                                          0.1s\n",
      "\u001b[0m\u001b[34m => => transferring context: 3.97kB                                        0.0s\n",
      "\u001b[0m\u001b[34m => CACHED [1/3] FROM mcr.microsoft.com/azure-functions/node:3.0@sha256:c  0.0s\n",
      "\u001b[0m\u001b[34m => [2/3] COPY . /home/site/wwwroot                                        0.0s\n",
      "\u001b[0m => [3/3] RUN cd /home/site/wwwroot &&     npm install                     0.4s\n",
      "\u001b[?25h\u001b[1A\u001b[1A\u001b[1A\u001b[1A\u001b[1A\u001b[1A\u001b[1A\u001b[1A\u001b[1A\u001b[1A\u001b[1A\u001b[0G\u001b[?25l[+] Building 1.6s (6/7)                                                         \n",
      "\u001b[34m => [internal] load build definition from Dockerfile                       0.0s\n",
      "\u001b[0m\u001b[34m => => transferring dockerfile: 426B                                       0.0s\n",
      "\u001b[0m\u001b[34m => [internal] load .dockerignore                                          0.0s\n",
      "\u001b[0m\u001b[34m => => transferring context: 59B                                           0.0s\n",
      "\u001b[0m\u001b[34m => [internal] load metadata for mcr.microsoft.com/azure-functions/node:3  0.9s\n",
      "\u001b[0m\u001b[34m => [internal] load build context                                          0.1s\n",
      "\u001b[0m\u001b[34m => => transferring context: 3.97kB                                        0.0s\n",
      "\u001b[0m\u001b[34m => CACHED [1/3] FROM mcr.microsoft.com/azure-functions/node:3.0@sha256:c  0.0s\n",
      "\u001b[0m\u001b[34m => [2/3] COPY . /home/site/wwwroot                                        0.0s\n",
      "\u001b[0m => [3/3] RUN cd /home/site/wwwroot &&     npm install                     0.5s\n",
      "\u001b[?25h\u001b[1A\u001b[1A\u001b[1A\u001b[1A\u001b[1A\u001b[1A\u001b[1A\u001b[1A\u001b[1A\u001b[1A\u001b[1A\u001b[0G\u001b[?25l[+] Building 1.8s (6/7)                                                         \n",
      "\u001b[34m => [internal] load build definition from Dockerfile                       0.0s\n",
      "\u001b[0m\u001b[34m => => transferring dockerfile: 426B                                       0.0s\n",
      "\u001b[0m\u001b[34m => [internal] load .dockerignore                                          0.0s\n",
      "\u001b[0m\u001b[34m => => transferring context: 59B                                           0.0s\n",
      "\u001b[0m\u001b[34m => [internal] load metadata for mcr.microsoft.com/azure-functions/node:3  0.9s\n",
      "\u001b[0m\u001b[34m => [internal] load build context                                          0.1s\n",
      "\u001b[0m\u001b[34m => => transferring context: 3.97kB                                        0.0s\n",
      "\u001b[0m\u001b[34m => CACHED [1/3] FROM mcr.microsoft.com/azure-functions/node:3.0@sha256:c  0.0s\n",
      "\u001b[0m\u001b[34m => [2/3] COPY . /home/site/wwwroot                                        0.0s\n",
      "\u001b[0m => [3/3] RUN cd /home/site/wwwroot &&     npm install                     0.7s\n",
      "\u001b[?25h\u001b[1A\u001b[1A\u001b[1A\u001b[1A\u001b[1A\u001b[1A\u001b[1A\u001b[1A\u001b[1A\u001b[1A\u001b[1A\u001b[0G\u001b[?25l[+] Building 1.9s (6/7)                                                         \n",
      "\u001b[34m => [internal] load build definition from Dockerfile                       0.0s\n",
      "\u001b[0m\u001b[34m => => transferring dockerfile: 426B                                       0.0s\n",
      "\u001b[0m\u001b[34m => [internal] load .dockerignore                                          0.0s\n",
      "\u001b[0m\u001b[34m => => transferring context: 59B                                           0.0s\n",
      "\u001b[0m\u001b[34m => [internal] load metadata for mcr.microsoft.com/azure-functions/node:3  0.9s\n",
      "\u001b[0m\u001b[34m => [internal] load build context                                          0.1s\n",
      "\u001b[0m\u001b[34m => => transferring context: 3.97kB                                        0.0s\n",
      "\u001b[0m\u001b[34m => CACHED [1/3] FROM mcr.microsoft.com/azure-functions/node:3.0@sha256:c  0.0s\n",
      "\u001b[0m\u001b[34m => [2/3] COPY . /home/site/wwwroot                                        0.0s\n",
      "\u001b[0m => [3/3] RUN cd /home/site/wwwroot &&     npm install                     0.8s\n",
      "\u001b[?25h\u001b[1A\u001b[1A\u001b[1A\u001b[1A\u001b[1A\u001b[1A\u001b[1A\u001b[1A\u001b[1A\u001b[1A\u001b[1A\u001b[0G\u001b[?25l[+] Building 2.1s (6/7)                                                         \n",
      "\u001b[34m => [internal] load build definition from Dockerfile                       0.0s\n",
      "\u001b[0m\u001b[34m => => transferring dockerfile: 426B                                       0.0s\n",
      "\u001b[0m\u001b[34m => [internal] load .dockerignore                                          0.0s\n",
      "\u001b[0m\u001b[34m => => transferring context: 59B                                           0.0s\n",
      "\u001b[0m\u001b[34m => [internal] load metadata for mcr.microsoft.com/azure-functions/node:3  0.9s\n",
      "\u001b[0m\u001b[34m => [internal] load build context                                          0.1s\n",
      "\u001b[0m\u001b[34m => => transferring context: 3.97kB                                        0.0s\n",
      "\u001b[0m\u001b[34m => CACHED [1/3] FROM mcr.microsoft.com/azure-functions/node:3.0@sha256:c  0.0s\n",
      "\u001b[0m\u001b[34m => [2/3] COPY . /home/site/wwwroot                                        0.0s\n",
      "\u001b[0m => [3/3] RUN cd /home/site/wwwroot &&     npm install                     1.0s\n",
      "\u001b[2m => => # npm notice created a lockfile as package-lock.json. You should commit \n",
      "\u001b[0m\u001b[2m => => # this file.                                                            \n",
      "\u001b[0m\u001b[2m => => # npm WARN wwwroot No description                                       \n",
      "\u001b[0m\u001b[2m => => # npm WARN wwwroot No repository field.                                 \n",
      "\u001b[0m\u001b[2m => => # npm WARN wwwroot No license field.                                    \n",
      "\u001b[0m\u001b[?25h\u001b[1A\u001b[1A\u001b[1A\u001b[1A\u001b[1A\u001b[1A\u001b[1A\u001b[1A\u001b[1A\u001b[1A\u001b[1A\u001b[1A\u001b[1A\u001b[1A\u001b[1A\u001b[1A\u001b[0G\u001b[?25l[+] Building 2.2s (6/7)                                                         \n",
      "\u001b[34m => [internal] load build definition from Dockerfile                       0.0s\n",
      "\u001b[0m\u001b[34m => => transferring dockerfile: 426B                                       0.0s\n",
      "\u001b[0m\u001b[34m => [internal] load .dockerignore                                          0.0s\n",
      "\u001b[0m\u001b[34m => => transferring context: 59B                                           0.0s\n",
      "\u001b[0m\u001b[34m => [internal] load metadata for mcr.microsoft.com/azure-functions/node:3  0.9s\n",
      "\u001b[0m\u001b[34m => [internal] load build context                                          0.1s\n",
      "\u001b[0m\u001b[34m => => transferring context: 3.97kB                                        0.0s\n",
      "\u001b[0m\u001b[34m => CACHED [1/3] FROM mcr.microsoft.com/azure-functions/node:3.0@sha256:c  0.0s\n",
      "\u001b[0m\u001b[34m => [2/3] COPY . /home/site/wwwroot                                        0.0s\n",
      "\u001b[0m => [3/3] RUN cd /home/site/wwwroot &&     npm install                     1.1s\n",
      "\u001b[2m => => # npm notice created a lockfile as package-lock.json. You should commit \n",
      "\u001b[0m\u001b[2m => => # this file.                                                            \n",
      "\u001b[0m\u001b[2m => => # npm WARN wwwroot No description                                       \n",
      "\u001b[0m\u001b[2m => => # npm WARN wwwroot No repository field.                                 \n",
      "\u001b[0m\u001b[2m => => # npm WARN wwwroot No license field.                                    \n",
      "\u001b[0m\u001b[?25h\u001b[1A\u001b[1A\u001b[1A\u001b[1A\u001b[1A\u001b[1A\u001b[1A\u001b[1A\u001b[1A\u001b[1A\u001b[1A\u001b[1A\u001b[1A\u001b[1A\u001b[1A\u001b[1A\u001b[0G\u001b[?25l[+] Building 2.4s (6/7)                                                         \n",
      "\u001b[34m => [internal] load build definition from Dockerfile                       0.0s\n",
      "\u001b[0m\u001b[34m => => transferring dockerfile: 426B                                       0.0s\n",
      "\u001b[0m\u001b[34m => [internal] load .dockerignore                                          0.0s\n",
      "\u001b[0m\u001b[34m => => transferring context: 59B                                           0.0s\n",
      "\u001b[0m\u001b[34m => [internal] load metadata for mcr.microsoft.com/azure-functions/node:3  0.9s\n",
      "\u001b[0m\u001b[34m => [internal] load build context                                          0.1s\n",
      "\u001b[0m\u001b[34m => => transferring context: 3.97kB                                        0.0s\n",
      "\u001b[0m\u001b[34m => CACHED [1/3] FROM mcr.microsoft.com/azure-functions/node:3.0@sha256:c  0.0s\n",
      "\u001b[0m\u001b[34m => [2/3] COPY . /home/site/wwwroot                                        0.0s\n",
      "\u001b[0m => [3/3] RUN cd /home/site/wwwroot &&     npm install                     1.3s\n",
      "\u001b[2m => => # this file.                                                            \n",
      "\u001b[0m\u001b[2m => => # npm WARN wwwroot No description                                       \n",
      "\u001b[0m\u001b[2m => => # npm WARN wwwroot No repository field.                                 \n",
      "\u001b[0m\u001b[2m => => # npm WARN wwwroot No license field.                                    \n",
      "\u001b[0m\u001b[2m => => # up to date in 0.536s                                                  \n",
      "\u001b[0m\u001b[?25h\u001b[1A\u001b[1A\u001b[1A\u001b[1A\u001b[1A\u001b[1A\u001b[1A\u001b[1A\u001b[1A\u001b[1A\u001b[1A\u001b[1A\u001b[1A\u001b[1A\u001b[1A\u001b[1A\u001b[0G\u001b[?25l[+] Building 2.4s (8/8) FINISHED                                                \n",
      "\u001b[34m => [internal] load build definition from Dockerfile                       0.0s\n",
      "\u001b[0m\u001b[34m => => transferring dockerfile: 426B                                       0.0s\n",
      "\u001b[0m\u001b[34m => [internal] load .dockerignore                                          0.0s\n",
      "\u001b[0m\u001b[34m => => transferring context: 59B                                           0.0s\n",
      "\u001b[0m\u001b[34m => [internal] load metadata for mcr.microsoft.com/azure-functions/node:3  0.9s\n",
      "\u001b[0m\u001b[34m => [internal] load build context                                          0.1s\n",
      "\u001b[0m\u001b[34m => => transferring context: 3.97kB                                        0.0s\n",
      "\u001b[0m\u001b[34m => CACHED [1/3] FROM mcr.microsoft.com/azure-functions/node:3.0@sha256:c  0.0s\n",
      "\u001b[0m\u001b[34m => [2/3] COPY . /home/site/wwwroot                                        0.0s\n",
      "\u001b[0m\u001b[34m => [3/3] RUN cd /home/site/wwwroot &&     npm install                     1.3s\n",
      "\u001b[0m\u001b[34m => exporting to image                                                     0.0s\n",
      "\u001b[0m\u001b[34m => => exporting layers                                                    0.0s\n",
      "\u001b[0m\u001b[34m => => writing image sha256:8a7c36c55020587d125fbe683e03ab0b6749c2a4cff3b  0.0s\n",
      "\u001b[0m\u001b[34m => => naming to docker.io/rondagdag/fxk8s:latest                          0.0s\n",
      "\u001b[0m                                                                                \n",
      "\u001b[1A\u001b[0G\u001b[?25h"
     ]
    }
   ],
   "metadata": {}
  },
  {
   "cell_type": "code",
   "execution_count": 43,
   "source": [
    "!docker push rondagdag/fxk8s:latest"
   ],
   "outputs": [
    {
     "output_type": "stream",
     "name": "stdout",
     "text": [
      "The push refers to repository [docker.io/rondagdag/fxk8s]\n",
      "\n",
      "\u001b[1B\n",
      "\u001b[1B\n",
      "\u001b[1B\n",
      "\u001b[1B\n",
      "\u001b[1B\n",
      "\u001b[1B\n",
      "\u001b[1B\n",
      "\u001b[1B\n",
      "\u001b[2Blatest: digest: sha256:252482e468e8153c581f4bd3faeaac7cbff5e525c6d15ebc7d9cd0426671b940 size: 2219\n"
     ]
    }
   ],
   "metadata": {}
  },
  {
   "cell_type": "code",
   "execution_count": 44,
   "source": [
    "!kubectl delete storage-azurite-deployment\n",
    "!kubectl apply -f ./azurite/azurite.yaml"
   ],
   "outputs": [
    {
     "output_type": "stream",
     "name": "stdout",
     "text": [
      "error: the server doesn't have a resource type \"storage-azurite-deployment\"\n",
      "deployment.apps/storage-azurite-deployment unchanged\n",
      "service/storage-azurite-service unchanged\n"
     ]
    }
   ],
   "metadata": {}
  },
  {
   "cell_type": "code",
   "execution_count": 45,
   "source": [
    "!kubectl delete deployments fx-k8s\n",
    "!cd fx-edge && func kubernetes deploy --name fx-k8s --image-name rondagdag/fxk8s:latest --dry-run > ../fx-k8s.yaml\n",
    "!kubectl apply -f fx-k8s.yaml"
   ],
   "outputs": [
    {
     "output_type": "stream",
     "name": "stdout",
     "text": [
      "deployment.apps \"fx-k8s\" deleted\n",
      "secret/fx-k8s unchanged\n",
      "secret/func-keys-kube-secret-fx-k8s configured\n",
      "serviceaccount/fx-k8s-function-keys-identity-svc-act unchanged\n",
      "role.rbac.authorization.k8s.io/functions-keys-manager-role unchanged\n",
      "rolebinding.rbac.authorization.k8s.io/fx-k8s-function-keys-identity-svc-act-functions-keys-manager-rolebinding unchanged\n",
      "service/fx-k8s-http unchanged\n",
      "deployment.apps/fx-k8s-http unchanged\n",
      "deployment.apps/fx-k8s created\n",
      "scaledobject.keda.sh/fx-k8s configured\n"
     ]
    }
   ],
   "metadata": {}
  },
  {
   "cell_type": "code",
   "execution_count": 46,
   "source": [
    "!kubectl get services"
   ],
   "outputs": [
    {
     "output_type": "stream",
     "name": "stdout",
     "text": [
      "NAME                      TYPE           CLUSTER-IP       EXTERNAL-IP   PORT(S)                         AGE\n",
      "fx-k8s-http               LoadBalancer   10.107.122.116   localhost     80:32166/TCP                    20h\n",
      "kubernetes                ClusterIP      10.96.0.1        <none>        443/TCP                         27h\n",
      "storage-azurite-service   ClusterIP      10.96.227.211    <none>        10000/TCP,10001/TCP,10002/TCP   19h\n"
     ]
    }
   ],
   "metadata": {}
  },
  {
   "cell_type": "code",
   "execution_count": 47,
   "source": [
    "!kubectl get pods"
   ],
   "outputs": [
    {
     "output_type": "stream",
     "name": "stdout",
     "text": [
      "NAME                                         READY   STATUS        RESTARTS   AGE\n",
      "fx-k8s-5798978758-9s648                      1/1     Terminating   1          114m\n",
      "fx-k8s-5798978758-tfdww                      0/1     Running       0          20s\n",
      "fx-k8s-http-6845f4dc76-fdnqv                 1/1     Running       0          114m\n",
      "storage-azurite-deployment-577dbb876-9kptm   1/1     Running       0          117m\n"
     ]
    }
   ],
   "metadata": {}
  },
  {
   "cell_type": "code",
   "execution_count": 48,
   "source": [
    "!kubectl get deployments"
   ],
   "outputs": [
    {
     "output_type": "stream",
     "name": "stdout",
     "text": [
      "NAME                         READY   UP-TO-DATE   AVAILABLE   AGE\n",
      "fx-k8s                       1/1     1            1           25s\n",
      "fx-k8s-http                  1/1     1            1           115m\n",
      "storage-azurite-deployment   1/1     1            1           117m\n"
     ]
    }
   ],
   "metadata": {}
  },
  {
   "cell_type": "code",
   "execution_count": 34,
   "source": [
    "!kubectl logs deploy/fx-k8s --tail 20"
   ],
   "outputs": [
    {
     "output_type": "stream",
     "name": "stdout",
     "text": [
      "Headers:\n",
      "X-Powered-By: REDACTED\n",
      "ETag: W/\"a8-fxKXILNReyuR9xtKGwT8eC5QOzA\"\n",
      "Date: Wed, 15 Sep 2021 21:55:46 GMT\n",
      "Connection: keep-alive\n",
      "Content-Type: text/html; charset=utf-8\n",
      "Content-Length: 168\n",
      "\n",
      "   at Azure.Storage.Blobs.BlobRestClient.RenewLeaseAsync(String leaseId, Nullable`1 timeout, Nullable`1 ifModifiedSince, Nullable`1 ifUnmodifiedSince, String ifMatch, String ifNoneMatch, String ifTags, CancellationToken cancellationToken)\n",
      "   at Azure.Storage.Blobs.Specialized.BlobLeaseClient.RenewInternal(RequestConditions conditions, Boolean async, CancellationToken cancellationToken)\n",
      "   at Azure.Storage.Blobs.Specialized.BlobLeaseClient.RenewAsync(RequestConditions conditions, CancellationToken cancellationToken)\n",
      "   at Microsoft.Azure.WebJobs.Script.BlobLeaseDistributedLockManager.SingletonLockHandle.RenewAsync(ILogger logger, CancellationToken cancellationToken) in /src/azure-functions-host/src/WebJobs.Script/Host/DistributedLockManagers/BlobLeaseDistributedLockManager.cs:line 334\n",
      "   at Microsoft.Azure.WebJobs.Host.SingletonManager.RenewLeaseCommand.ExecuteAsync(CancellationToken cancellationToken) in C:\\projects\\azure-webjobs-sdk-rqm4t\\src\\Microsoft.Azure.WebJobs.Host\\Singleton\\SingletonManager.cs:line 337\n",
      "   at Microsoft.Azure.WebJobs.Host.Timers.TaskSeriesTimer.RunAsync(CancellationToken cancellationToken) in C:\\projects\\azure-webjobs-sdk-rqm4t\\src\\Microsoft.Azure.WebJobs.Host\\Timers\\TaskSeriesTimer.cs:line 147\n",
      "\u001b[40m\u001b[32minfo\u001b[39m\u001b[22m\u001b[49m: Microsoft.Azure.WebJobs.Host.DrainModeManager[0]\n",
      "      DrainMode mode enabled\n",
      "\u001b[40m\u001b[32minfo\u001b[39m\u001b[22m\u001b[49m: Microsoft.Azure.WebJobs.Host.DrainModeManager[0]\n",
      "      Calling StopAsync on the registered listeners\n",
      "\u001b[40m\u001b[32minfo\u001b[39m\u001b[22m\u001b[49m: Host.Startup[0]\n",
      "      Stopping the listener 'Microsoft.Azure.WebJobs.Host.Listeners.SingletonListener' for function 'MyTimerTrigger'\n"
     ]
    }
   ],
   "metadata": {}
  },
  {
   "cell_type": "markdown",
   "source": [],
   "metadata": {}
  }
 ],
 "metadata": {
  "orig_nbformat": 4,
  "language_info": {
   "name": "python",
   "version": "3.8.10",
   "mimetype": "text/x-python",
   "codemirror_mode": {
    "name": "ipython",
    "version": 3
   },
   "pygments_lexer": "ipython3",
   "nbconvert_exporter": "python",
   "file_extension": ".py"
  },
  "kernelspec": {
   "name": "python3",
   "display_name": "Python 3.8.10 64-bit"
  },
  "interpreter": {
   "hash": "916dbcbb3f70747c44a77c7bcd40155683ae19c65e1c03b4aa3499c5328201f1"
  }
 },
 "nbformat": 4,
 "nbformat_minor": 2
}