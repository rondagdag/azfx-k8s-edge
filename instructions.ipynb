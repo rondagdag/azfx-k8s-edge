{
 "cells": [
  {
   "cell_type": "markdown",
   "source": [
    "Enable Kubernetes in Docker Desktop\r\n"
   ],
   "metadata": {}
  },
  {
   "cell_type": "markdown",
   "source": [
    "Install Azure Functions Core Tools  https://docs.microsoft.com/en-us/azure/azure-functions/functions-run-local?tabs=windows%2Ccsharp%2Cportal%2Cbash%2Ckeda\r\n"
   ],
   "metadata": {}
  },
  {
   "cell_type": "markdown",
   "source": [
    "Requirements:\r\n",
    "- Node\r\n",
    "- Docker Desktop with Kubernetes enabled\r\n",
    "  "
   ],
   "metadata": {}
  },
  {
   "cell_type": "code",
   "execution_count": 1,
   "source": [
    "!npm i -g azure-functions-core-tools@3 --unsafe-perm true"
   ],
   "outputs": [
    {
     "output_type": "stream",
     "name": "stdout",
     "text": [
      "C:\\Program Files\\nodejs\\func -> C:\\Program Files\\nodejs\\node_modules\\azure-functions-core-tools\\lib\\main.js\n",
      "C:\\Program Files\\nodejs\\azfun -> C:\\Program Files\\nodejs\\node_modules\\azure-functions-core-tools\\lib\\main.js\n",
      "C:\\Program Files\\nodejs\\azurefunctions -> C:\\Program Files\\nodejs\\node_modules\\azure-functions-core-tools\\lib\\main.js\n",
      "\n",
      "> azure-functions-core-tools@3.0.3734 postinstall C:\\Program Files\\nodejs\\node_modules\\azure-functions-core-tools\n",
      "> node lib/install.js\n",
      "\n",
      "attempting to GET \"https://functionscdn.azureedge.net/public/3.0.3734/Azure.Functions.Cli.win-x64.3.0.3734.zip\"\n",
      "\n",
      "Telemetry\n",
      "---------\n",
      "The Azure Functions Core tools collect usage data in order to help us improve your experience. \n",
      "The data is anonymous and doesn't include any user specific or personal information. The data is collected by Microsoft.\n",
      "\n",
      "You can opt-out of telemetry by setting the FUNCTIONS_CORE_TOOLS_TELEMETRY_OPTOUT environment variable to '1' or 'true' using your favorite shell.\n",
      "\n",
      "+ azure-functions-core-tools@3.0.3734\n",
      "updated 1 package in 20.431s\n"
     ]
    },
    {
     "output_type": "stream",
     "name": "stderr",
     "text": [
      "\n"
     ]
    }
   ],
   "metadata": {}
  },
  {
   "cell_type": "code",
   "execution_count": 2,
   "source": [
    "!func kubernetes install"
   ],
   "outputs": [
    {
     "output_type": "stream",
     "name": "stdout",
     "text": [
      "Installing KEDA v2 in namespace \n",
      "customresourcedefinition.apiextensions.k8s.io/clustertriggerauthentications.keda.sh configured\n",
      "customresourcedefinition.apiextensions.k8s.io/scaledjobs.keda.sh configured\n",
      "customresourcedefinition.apiextensions.k8s.io/scaledobjects.keda.sh configured\n",
      "customresourcedefinition.apiextensions.k8s.io/triggerauthentications.keda.sh configured\n",
      "serviceaccount/keda-operator unchanged\n",
      "clusterrole.rbac.authorization.k8s.io/keda-external-metrics-reader unchanged\n",
      "clusterrole.rbac.authorization.k8s.io/keda-operator configured\n",
      "rolebinding.rbac.authorization.k8s.io/keda-auth-reader unchanged\n",
      "clusterrolebinding.rbac.authorization.k8s.io/keda-hpa-controller-external-metrics unchanged\n",
      "clusterrolebinding.rbac.authorization.k8s.io/keda-operator unchanged\n",
      "clusterrolebinding.rbac.authorization.k8s.io/keda:system:auth-delegator unchanged\n",
      "service/keda-metrics-apiserver unchanged\n",
      "deployment.apps/keda-metrics-apiserver configured\n",
      "deployment.apps/keda-operator configured\n",
      "apiservice.apiregistration.k8s.io/v1beta1.external.metrics.k8s.io unchanged\n",
      "KEDA v2 is installed in namespace \n"
     ]
    }
   ],
   "metadata": {
    "dotnet_interactive": {
     "language": "csharp"
    }
   }
  },
  {
   "cell_type": "markdown",
   "source": [
    "- to build folder   func init --docker"
   ],
   "metadata": {}
  },
  {
   "cell_type": "code",
   "execution_count": 3,
   "source": [
    "!func init fx-edge --docker-only --javascript"
   ],
   "outputs": [
    {
     "output_type": "stream",
     "name": "stdout",
     "text": [
      "Writing Dockerfile\n",
      "Writing .dockerignore\n"
     ]
    }
   ],
   "metadata": {}
  },
  {
   "cell_type": "code",
   "execution_count": 4,
   "source": [
    "!func new fx-edge --template \"Timer Trigger\" --name MyTimerTrigger --worker-runtime node"
   ],
   "outputs": [
    {
     "output_type": "stream",
     "name": "stdout",
     "text": [
      "Writing package.json\n",
      "Writing .gitignore\n",
      "Writing host.json\n",
      "Writing local.settings.json\n",
      "Writing d:\\presentations\\azfunc-percept\\azfx-k8s-edge\\fx-edge\\.vscode\\extensions.json\n",
      "Use the up/down arrow keys to select a template:Timer Trigger\n",
      "Function name: [TimerTrigger] Writing d:\\presentations\\azfunc-percept\\azfx-k8s-edge\\fx-edge\\MyTimerTrigger\\index.js\n",
      "Writing d:\\presentations\\azfunc-percept\\azfx-k8s-edge\\fx-edge\\MyTimerTrigger\\readme.md\n",
      "Writing d:\\presentations\\azfunc-percept\\azfx-k8s-edge\\fx-edge\\MyTimerTrigger\\function.json\n",
      "The function \"MyTimerTrigger\" was created successfully from the \"Timer Trigger\" template.\n"
     ]
    }
   ],
   "metadata": {}
  },
  {
   "cell_type": "markdown",
   "source": [
    "Change the timer to every 15 seconds\r\n",
    "```\r\n",
    "\"schedule\": \"*/15 * * * * *\"\r\n",
    "```"
   ],
   "metadata": {}
  },
  {
   "cell_type": "markdown",
   "source": [
    "Copy local.settings.json for azurerite connection string"
   ],
   "metadata": {}
  },
  {
   "cell_type": "code",
   "execution_count": 13,
   "source": [
    "!copy azurite/local.settings.json fx-edge/local.settings.json"
   ],
   "outputs": [
    {
     "output_type": "stream",
     "name": "stdout",
     "text": [
      "azurite\\azurite.yaml\n",
      "azurite\\local.settings.json\n",
      "        2 file(s) copied.\n"
     ]
    }
   ],
   "metadata": {}
  },
  {
   "cell_type": "code",
   "execution_count": 14,
   "source": [
    "!cd fx-edge && docker build --pull --rm -f \"Dockerfile\" -t rondagdag/fxk8s:latest \".\""
   ],
   "outputs": [
    {
     "output_type": "stream",
     "name": "stderr",
     "text": [
      "#1 [internal] load build definition from Dockerfile\n",
      "#1 sha256:52c38ec3a5b2e9e1da6cdae8ff617d547f7d829c9fe8ec638ee29afea7fb3bdb\n",
      "#1 transferring dockerfile: 430B done\n",
      "#1 DONE 0.0s\n",
      "\n",
      "#2 [internal] load .dockerignore\n",
      "#2 sha256:92990faec9d0406003e3fe54b9ec07a9b1e01378ee2d400057bb9addb09e0f87\n",
      "#2 transferring context: 59B done\n",
      "#2 DONE 0.0s\n",
      "\n",
      "#3 [internal] load metadata for mcr.microsoft.com/azure-functions/node:3.0\n",
      "#3 sha256:ab0d5c570b198458f4d0d18cebd5dc49c99be7975c4d134cc1b957f1f7c751a7\n",
      "#3 DONE 0.7s\n",
      "\n",
      "#4 [1/3] FROM mcr.microsoft.com/azure-functions/node:3.0@sha256:cc32cdc70a0aa131b7d3f47397eda1341b2ea37a6391b43a439d839f71d449e5\n",
      "#4 sha256:4a4de030f6687dab9707581a48e618fead7f58045573841261341a2b4c814b3d\n",
      "#4 DONE 0.0s\n",
      "\n",
      "#7 [internal] load build context\n",
      "#7 sha256:cca07ef42e0e1138bab6c60003314561b68bfa71462f6c0b19bbbf4fa724a549\n",
      "#7 transferring context: 3.09kB done\n",
      "#7 DONE 0.0s\n",
      "\n",
      "#5 [2/3] COPY . /home/site/wwwroot\n",
      "#5 sha256:0c2141aef7f8ec9c38f32affcd86042879edc7c34c1182623a8a0c8f521f127c\n",
      "#5 CACHED\n",
      "\n",
      "#6 [3/3] RUN cd /home/site/wwwroot &&     npm install\n",
      "#6 sha256:e1baa3d937cb5c47e0582b38ba1123de2b2edd47fa0871f69053743a515c7f8c\n",
      "#6 CACHED\n",
      "\n",
      "#8 exporting to image\n",
      "#8 sha256:e8c613e07b0b7ff33893b694f7759a10d42e180f2b4dc349fb57dc6b71dcab00\n",
      "#8 exporting layers done\n",
      "#8 writing image sha256:8d3efb71f69a049a4444472ee198b0eba07ec8e2f301912af1f851b31cf32f4e done\n",
      "#8 naming to docker.io/rondagdag/fxk8s:latest done\n",
      "#8 DONE 0.0s\n"
     ]
    }
   ],
   "metadata": {}
  },
  {
   "cell_type": "code",
   "execution_count": 15,
   "source": [
    "!docker push rondagdag/fxk8s:latest"
   ],
   "outputs": [
    {
     "output_type": "stream",
     "name": "stdout",
     "text": [
      "The push refers to repository [docker.io/rondagdag/fxk8s]\n",
      "8c1066062ef8: Preparing\n",
      "76135b072dbc: Preparing\n",
      "9b6823c384b8: Preparing\n",
      "a9f8bdecd548: Preparing\n",
      "b0d0c2a63ed8: Preparing\n",
      "6741d57a517c: Preparing\n",
      "2c7565da48d9: Preparing\n",
      "99744128ede5: Preparing\n",
      "f68ef921efae: Preparing\n",
      "99744128ede5: Waiting\n",
      "2c7565da48d9: Waiting\n",
      "6741d57a517c: Waiting\n",
      "f68ef921efae: Waiting\n",
      "8c1066062ef8: Layer already exists\n",
      "a9f8bdecd548: Layer already exists\n",
      "76135b072dbc: Layer already exists\n",
      "9b6823c384b8: Layer already exists\n",
      "b0d0c2a63ed8: Layer already exists\n",
      "99744128ede5: Layer already exists\n",
      "6741d57a517c: Layer already exists\n",
      "2c7565da48d9: Layer already exists\n",
      "f68ef921efae: Layer already exists\n",
      "latest: digest: sha256:e865e14dff53f225cfb2b586f5bc3dbabbc9e98a77451db49597308d8b47490b size: 2219\n"
     ]
    }
   ],
   "metadata": {}
  },
  {
   "cell_type": "code",
   "execution_count": 16,
   "source": [
    "!kubectl delete storage-azurite-deployment\r\n",
    "!kubectl apply -f .\\azurite\\azurite.yaml"
   ],
   "outputs": [
    {
     "output_type": "stream",
     "name": "stderr",
     "text": [
      "error: the server doesn't have a resource type \"storage-azurite-deployment\"\n"
     ]
    },
    {
     "output_type": "stream",
     "name": "stdout",
     "text": [
      "deployment.apps/storage-azurite-deployment unchanged\n",
      "service/storage-azurite-service unchanged\n"
     ]
    }
   ],
   "metadata": {}
  },
  {
   "cell_type": "markdown",
   "source": [
    "change connection string to \"AzureWebJobsStorage\": \"DefaultEndpointsProtocol=http;AccountName=devstoreaccount1;AccountKey=Eby8vdM02xNOcqFlqUwJPLlmEtlCDXJ1OUzFT50uSRZ6IFsuFq2UVErCz4I6tq/K1SZFPTOtr/KBHBeksoGMGw==;BlobEndpoint=http://storage-azurite-service:10000/devstoreaccount1;QueueEndpoint=http://storage-azurite-service:10001/devstoreaccount1;\""
   ],
   "metadata": {}
  },
  {
   "cell_type": "code",
   "execution_count": 17,
   "source": [
    "!kubectl delete deployments fx-k8s\r\n",
    "!cd fx-edge && func kubernetes deploy --name fx-k8s --image-name rondagdag/fxk8s:latest --dry-run > ../fx-k8s.yaml\r\n",
    "!kubectl apply -f fx-k8s.yaml"
   ],
   "outputs": [
    {
     "output_type": "stream",
     "name": "stdout",
     "text": [
      "deployment.apps \"fx-k8s\" deleted\n",
      "secret/fx-k8s unchanged\n",
      "deployment.apps/fx-k8s created\n",
      "scaledobject.keda.sh/fx-k8s unchanged\n"
     ]
    }
   ],
   "metadata": {}
  },
  {
   "cell_type": "code",
   "execution_count": 18,
   "source": [
    "!kubectl get services"
   ],
   "outputs": [
    {
     "output_type": "stream",
     "name": "stdout",
     "text": [
      "NAME                      TYPE           CLUSTER-IP       EXTERNAL-IP   PORT(S)                         AGE\n",
      "fx-k8s-http               LoadBalancer   10.107.122.116   localhost     80:32166/TCP                    170m\n",
      "kubernetes                ClusterIP      10.96.0.1        <none>        443/TCP                         9h\n",
      "storage-azurite-service   ClusterIP      10.96.227.211    <none>        10000/TCP,10001/TCP,10002/TCP   60m\n"
     ]
    }
   ],
   "metadata": {}
  },
  {
   "cell_type": "code",
   "execution_count": 19,
   "source": [
    "!kubectl get pods"
   ],
   "outputs": [
    {
     "output_type": "stream",
     "name": "stdout",
     "text": [
      "NAME                                         READY   STATUS        RESTARTS   AGE\n",
      "fx-k8s-7895c958d4-55vzx                      0/1     Running       0          15s\n",
      "fx-k8s-7895c958d4-xq9tq                      1/1     Terminating   0          12m\n",
      "storage-azurite-deployment-577dbb876-w62gn   1/1     Running       0          60m\n"
     ]
    }
   ],
   "metadata": {}
  },
  {
   "cell_type": "code",
   "execution_count": 21,
   "source": [
    "!kubectl get deployments"
   ],
   "outputs": [
    {
     "output_type": "stream",
     "name": "stdout",
     "text": [
      "NAME                         READY   UP-TO-DATE   AVAILABLE   AGE\n",
      "fx-k8s                       1/1     1            1           23s\n",
      "storage-azurite-deployment   1/1     1            1           60m\n"
     ]
    }
   ],
   "metadata": {}
  },
  {
   "cell_type": "code",
   "execution_count": 23,
   "source": [
    "!kubectl logs deploy/fx-k8s --tail 20"
   ],
   "outputs": [
    {
     "output_type": "stream",
     "name": "stdout",
     "text": [
      "\u001b[40m\u001b[32minfo\u001b[39m\u001b[22m\u001b[49m: Host.Startup[0]\n",
      "      Job host started\n",
      "Hosting environment: Production\n",
      "Content root path: /\n",
      "Now listening on: http://[::]:80\n",
      "Application started. Press Ctrl+C to shut down.\n",
      "\u001b[40m\u001b[32minfo\u001b[39m\u001b[22m\u001b[49m: Microsoft.Azure.WebJobs.Script.Workers.Rpc.RpcFunctionInvocationDispatcher[0]\n",
      "      Worker process started and initialized.\n",
      "\u001b[40m\u001b[32minfo\u001b[39m\u001b[22m\u001b[49m: Function.MyTimerTrigger[1]\n",
      "      Executing 'Functions.MyTimerTrigger' (Reason='Timer fired at 2021-09-15T05:16:30.0080826+00:00', Id=013290ca-daa3-4470-8dd3-780e192f06a3)\n",
      "\u001b[40m\u001b[32minfo\u001b[39m\u001b[22m\u001b[49m: Function.MyTimerTrigger.User[0]\n",
      "      JavaScript timer trigger function ran! 2021-09-15T05:16:30.041Z\n",
      "\u001b[40m\u001b[32minfo\u001b[39m\u001b[22m\u001b[49m: Function.MyTimerTrigger[2]\n",
      "      Executed 'Functions.MyTimerTrigger' (Succeeded, Id=013290ca-daa3-4470-8dd3-780e192f06a3, Duration=49ms)\n",
      "\u001b[40m\u001b[32minfo\u001b[39m\u001b[22m\u001b[49m: Function.MyTimerTrigger[1]\n",
      "      Executing 'Functions.MyTimerTrigger' (Reason='Timer fired at 2021-09-15T05:16:45.0037562+00:00', Id=19d5ef83-0888-4faf-ade1-149bad71dae6)\n",
      "\u001b[40m\u001b[32minfo\u001b[39m\u001b[22m\u001b[49m: Function.MyTimerTrigger.User[0]\n",
      "      JavaScript timer trigger function ran! 2021-09-15T05:16:45.006Z\n",
      "\u001b[40m\u001b[32minfo\u001b[39m\u001b[22m\u001b[49m: Function.MyTimerTrigger[2]\n",
      "      Executed 'Functions.MyTimerTrigger' (Succeeded, Id=19d5ef83-0888-4faf-ade1-149bad71dae6, Duration=3ms)\n"
     ]
    }
   ],
   "metadata": {}
  }
 ],
 "metadata": {
  "orig_nbformat": 4,
  "language_info": {
   "name": "python",
   "version": "3.9.7",
   "mimetype": "text/x-python",
   "codemirror_mode": {
    "name": "ipython",
    "version": 3
   },
   "pygments_lexer": "ipython3",
   "nbconvert_exporter": "python",
   "file_extension": ".py"
  },
  "kernelspec": {
   "name": "python3",
   "display_name": "Python 3.9.7 64-bit (windows store)"
  },
  "interpreter": {
   "hash": "f56e04445257e8c03737cd64c0fcaf6c726181bea6d5974db6823b1c6c4ad412"
  }
 },
 "nbformat": 4,
 "nbformat_minor": 2
}